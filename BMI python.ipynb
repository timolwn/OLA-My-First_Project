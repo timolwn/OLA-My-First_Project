{
 "cells": [
  {
   "cell_type": "markdown",
   "metadata": {},
   "source": [
    "## Linear Regression for Blood Pressure and BMI"
   ]
  },
  {
   "cell_type": "code",
   "execution_count": null,
   "metadata": {},
   "outputs": [],
   "source": [
    "## Import data Type\n",
    "\n",
    "import numpy as np\n",
    "import pandas as pd # to Read Data\n",
    "import matplotlib.pyplot as plt  # To visualize\n",
    "from sklearn.linear_model import LinearRegression\n",
    "import statsmodels.api as sm\n",
    "import statsmodels.formula.api as smf"
   ]
  },
  {
   "cell_type": "code",
   "execution_count": 2,
   "metadata": {},
   "outputs": [],
   "source": [
    "Blood = pd.read_csv('C:/Users/tim_m/Desktop/Mathmatical Modeling/Man BMI X Blood Pressure.csv')"
   ]
  },
  {
   "cell_type": "code",
   "execution_count": 3,
   "metadata": {},
   "outputs": [
    {
     "data": {
      "text/html": [
       "<div>\n",
       "<style scoped>\n",
       "    .dataframe tbody tr th:only-of-type {\n",
       "        vertical-align: middle;\n",
       "    }\n",
       "\n",
       "    .dataframe tbody tr th {\n",
       "        vertical-align: top;\n",
       "    }\n",
       "\n",
       "    .dataframe thead th {\n",
       "        text-align: right;\n",
       "    }\n",
       "</style>\n",
       "<table border=\"1\" class=\"dataframe\">\n",
       "  <thead>\n",
       "    <tr style=\"text-align: right;\">\n",
       "      <th></th>\n",
       "      <th>Country/Region/World</th>\n",
       "      <th>Sex</th>\n",
       "      <th>Year</th>\n",
       "      <th>Mean systolic blood pressure (mmHg)</th>\n",
       "      <th>Mean diastolic blood pressure (mmHg)</th>\n",
       "      <th>Mean BMI</th>\n",
       "    </tr>\n",
       "  </thead>\n",
       "  <tbody>\n",
       "    <tr>\n",
       "      <th>0</th>\n",
       "      <td>Afghanistan</td>\n",
       "      <td>Men</td>\n",
       "      <td>1996</td>\n",
       "      <td>124.081252</td>\n",
       "      <td>78.011285</td>\n",
       "      <td>21.019525</td>\n",
       "    </tr>\n",
       "    <tr>\n",
       "      <th>1</th>\n",
       "      <td>Albania</td>\n",
       "      <td>Men</td>\n",
       "      <td>1996</td>\n",
       "      <td>131.525475</td>\n",
       "      <td>82.322413</td>\n",
       "      <td>25.177231</td>\n",
       "    </tr>\n",
       "    <tr>\n",
       "      <th>2</th>\n",
       "      <td>Algeria</td>\n",
       "      <td>Men</td>\n",
       "      <td>1996</td>\n",
       "      <td>127.516570</td>\n",
       "      <td>77.709504</td>\n",
       "      <td>23.198483</td>\n",
       "    </tr>\n",
       "    <tr>\n",
       "      <th>3</th>\n",
       "      <td>American Samoa</td>\n",
       "      <td>Men</td>\n",
       "      <td>1996</td>\n",
       "      <td>132.703962</td>\n",
       "      <td>83.615884</td>\n",
       "      <td>33.475432</td>\n",
       "    </tr>\n",
       "    <tr>\n",
       "      <th>4</th>\n",
       "      <td>Andorra</td>\n",
       "      <td>Men</td>\n",
       "      <td>1996</td>\n",
       "      <td>130.240682</td>\n",
       "      <td>81.000865</td>\n",
       "      <td>26.741236</td>\n",
       "    </tr>\n",
       "  </tbody>\n",
       "</table>\n",
       "</div>"
      ],
      "text/plain": [
       "  Country/Region/World  Sex  Year  Mean systolic blood pressure (mmHg)  \\\n",
       "0          Afghanistan  Men  1996                           124.081252   \n",
       "1              Albania  Men  1996                           131.525475   \n",
       "2              Algeria  Men  1996                           127.516570   \n",
       "3       American Samoa  Men  1996                           132.703962   \n",
       "4              Andorra  Men  1996                           130.240682   \n",
       "\n",
       "   Mean diastolic blood pressure (mmHg)   Mean BMI  \n",
       "0                             78.011285  21.019525  \n",
       "1                             82.322413  25.177231  \n",
       "2                             77.709504  23.198483  \n",
       "3                             83.615884  33.475432  \n",
       "4                             81.000865  26.741236  "
      ]
     },
     "execution_count": 3,
     "metadata": {},
     "output_type": "execute_result"
    }
   ],
   "source": [
    "Blood.head(5)"
   ]
  },
  {
   "cell_type": "code",
   "execution_count": 4,
   "metadata": {},
   "outputs": [],
   "source": [
    "Systolic = Blood[\"Mean systolic blood pressure (mmHg)\"]"
   ]
  },
  {
   "cell_type": "code",
   "execution_count": 5,
   "metadata": {},
   "outputs": [],
   "source": [
    "Diastolic = Blood[\"Mean diastolic blood pressure (mmHg)\"]"
   ]
  },
  {
   "cell_type": "code",
   "execution_count": 6,
   "metadata": {},
   "outputs": [],
   "source": [
    "BMI = Blood[\"Mean BMI\"]"
   ]
  },
  {
   "cell_type": "code",
   "execution_count": null,
   "metadata": {},
   "outputs": [],
   "source": []
  },
  {
   "cell_type": "markdown",
   "metadata": {},
   "source": [
    "### Systolic and BMI Correlation"
   ]
  },
  {
   "cell_type": "code",
   "execution_count": 24,
   "metadata": {},
   "outputs": [
    {
     "name": "stdout",
     "output_type": "stream",
     "text": [
      "0.2974144054552424\n",
      "121.52077524710644\n"
     ]
    }
   ],
   "source": [
    "# Find the best fit line by using the least square method.\n",
    "denominator = BMI.dot(BMI)-BMI.mean()*BMI.sum()\n",
    "denominator\n",
    "m = (BMI.dot(Systolic) - Systolic.mean() * BMI.sum() ) / denominator\n",
    "b = (Systolic.mean() * BMI.dot(BMI) - BMI.mean() * BMI.dot(Systolic) ) / denominator\n",
    "print(m)\n",
    "print(b)"
   ]
  },
  {
   "cell_type": "code",
   "execution_count": 8,
   "metadata": {},
   "outputs": [
    {
     "data": {
      "image/png": "[encoded data removed]",
      "text/plain": [
       "<Figure size 432x288 with 1 Axes>"
      ]
     },
     "metadata": {
      "needs_background": "light"
     },
     "output_type": "display_data"
    }
   ],
   "source": [
    "y_pred = m*BMI+b # The predicited line of best fit\n",
    "plt.axes()\n",
    "plt.scatter(BMI, Systolic) # Scatter comparison between BMI and Systolic Blood Pressure\n",
    "plt.plot( BMI,y_pred , 'r') # \n",
    "plt.ylabel('Systolic Blood Pressure')\n",
    "plt.xlabel('BMI')\n",
    "plt.grid()\n",
    "plt.show()\n"
   ]
  },
  {
   "cell_type": "code",
   "execution_count": 16,
   "metadata": {},
   "outputs": [
    {
     "name": "stdout",
     "output_type": "stream",
     "text": [
      "                            OLS Regression Results                            \n",
      "==============================================================================\n",
      "Dep. Variable:               Systolic   R-squared:                       0.051\n",
      "Model:                            OLS   Adj. R-squared:                  0.046\n",
      "Method:                 Least Squares   F-statistic:                     10.58\n",
      "Date:                Mon, 23 Dec 2019   Prob (F-statistic):            0.00134\n",
      "Time:                        09:28:27   Log-Likelihood:                -523.03\n",
      "No. Observations:                 200   AIC:                             1050.\n",
      "Df Residuals:                     198   BIC:                             1057.\n",
      "Df Model:                           1                                         \n",
      "Covariance Type:            nonrobust                                         \n",
      "==============================================================================\n",
      "                 coef    std err          t      P>|t|      [0.025      0.975]\n",
      "------------------------------------------------------------------------------\n",
      "Intercept    121.5208      2.226     54.586      0.000     117.131     125.911\n",
      "BMI            0.2974      0.091      3.253      0.001       0.117       0.478\n",
      "==============================================================================\n",
      "Omnibus:                        9.202   Durbin-Watson:                   2.082\n",
      "Prob(Omnibus):                  0.010   Jarque-Bera (JB):                4.268\n",
      "Skew:                           0.037   Prob(JB):                        0.118\n",
      "Kurtosis:                       2.288   Cond. No.                         231.\n",
      "==============================================================================\n",
      "\n",
      "Warnings:\n",
      "[1] Standard Errors assume that the covariance matrix of the errors is correctly specified.\n"
     ]
    }
   ],
   "source": [
    "## Use the statsmodels api to find the R^2.\n",
    "results = smf.ols('Systolic~BMI', data=Blood).fit()\n",
    "#fig = smf.graphics.abline_plot(model_results=results)\n",
    "# Inspect the results\n",
    "print(results.summary())\n",
    "\n",
    "\n",
    "# We see the R-Square = 0.051.\n",
    "# Base on the graph and the R-Squared we see that their is no correlation between systolic and BMI."
   ]
  },
  {
   "cell_type": "markdown",
   "metadata": {},
   "source": [
    "### Diastolic and BMI Correlation"
   ]
  },
  {
   "cell_type": "code",
   "execution_count": 25,
   "metadata": {},
   "outputs": [
    {
     "name": "stdout",
     "output_type": "stream",
     "text": [
      "0.19510075910830482\n",
      "74.32380463304588\n"
     ]
    }
   ],
   "source": [
    "# Find the Best fit line by using the least square method.\n",
    "denominator = BMI.dot(BMI)-BMI.mean()*BMI.sum()\n",
    "denominator\n",
    "m = (BMI.dot(Diastolic) - Diastolic.mean() * BMI.sum() ) / denominator\n",
    "b = (Diastolic.mean() * BMI.dot(BMI) - BMI.mean() * BMI.dot(Diastolic) ) / denominator\n",
    "print(m)\n",
    "print(b)"
   ]
  },
  {
   "cell_type": "code",
   "execution_count": 18,
   "metadata": {},
   "outputs": [
    {
     "data": {
      "image/png": "[encoded data removed]",
      "text/plain": [
       "<Figure size 432x288 with 1 Axes>"
      ]
     },
     "metadata": {
      "needs_background": "light"
     },
     "output_type": "display_data"
    }
   ],
   "source": [
    "y_preds = m*BMI+b # The predicited line of best fit\n",
    "plt.axes()\n",
    "plt.scatter(BMI, Diastolic) # Scatter comparison between BMI and Systolic Blood Pressure\n",
    "plt.plot( BMI,y_preds , 'g') # \n",
    "plt.ylabel('Diastolic Blood Pressure')\n",
    "plt.xlabel('BMI')\n",
    "plt.grid()\n",
    "plt.show()\n"
   ]
  },
  {
   "cell_type": "code",
   "execution_count": 15,
   "metadata": {},
   "outputs": [
    {
     "name": "stdout",
     "output_type": "stream",
     "text": [
      "                            OLS Regression Results                            \n",
      "==============================================================================\n",
      "Dep. Variable:              Diastolic   R-squared:                       0.045\n",
      "Model:                            OLS   Adj. R-squared:                  0.040\n",
      "Method:                 Least Squares   F-statistic:                     9.276\n",
      "Date:                Mon, 23 Dec 2019   Prob (F-statistic):            0.00264\n",
      "Time:                        09:27:28   Log-Likelihood:                -451.87\n",
      "No. Observations:                 200   AIC:                             907.7\n",
      "Df Residuals:                     198   BIC:                             914.3\n",
      "Df Model:                           1                                         \n",
      "Covariance Type:            nonrobust                                         \n",
      "==============================================================================\n",
      "                 coef    std err          t      P>|t|      [0.025      0.975]\n",
      "------------------------------------------------------------------------------\n",
      "Intercept     74.3238      1.560     47.654      0.000      71.248      77.399\n",
      "BMI            0.1951      0.064      3.046      0.003       0.069       0.321\n",
      "==============================================================================\n",
      "Omnibus:                        2.962   Durbin-Watson:                   1.894\n",
      "Prob(Omnibus):                  0.227   Jarque-Bera (JB):                2.746\n",
      "Skew:                          -0.164   Prob(JB):                        0.253\n",
      "Kurtosis:                       3.472   Cond. No.                         231.\n",
      "==============================================================================\n",
      "\n",
      "Warnings:\n",
      "[1] Standard Errors assume that the covariance matrix of the errors is correctly specified.\n"
     ]
    }
   ],
   "source": [
    "## Use the statsmodels api to find the R^2.\n",
    "results = smf.ols('Diastolic~BMI', data=Blood).fit()\n",
    "# Inspect the results\n",
    "print(results.summary())\n",
    "# We see the R-Square = 0.045. \n",
    "#Base on the graph and the Rsquared we see that their is no correlation between Diastolic and BMI."
   ]
  }
 ],
 "metadata": {
  "kernelspec": {
   "display_name": "Python 3",
   "language": "python",
   "name": "python3"
  },
  "language_info": {
   "codemirror_mode": {
    "name": "ipython",
    "version": 3
   },
   "file_extension": ".py",
   "mimetype": "text/x-python",
   "name": "python",
   "nbconvert_exporter": "python",
   "pygments_lexer": "ipython3",
   "version": "3.7.3"
  }
 },
 "nbformat": 4,
 "nbformat_minor": 2
}
